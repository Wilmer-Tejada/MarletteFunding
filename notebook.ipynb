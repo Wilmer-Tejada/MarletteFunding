{
 "cells": [
  {
   "cell_type": "code",
   "execution_count": 21,
   "id": "90b674fb-0233-4029-b36a-562761ff3bd7",
   "metadata": {},
   "outputs": [],
   "source": [
    "import pandas as pd\n",
    "import numpy as np\n",
    "from sklearn.preprocessing import StandardScaler # data normalization\n",
    "from sklearn.preprocessing import LabelEncoder # label encoding\n",
    "from sklearn.model_selection import train_test_split # data split\n",
    "from xgboost import XGBClassifier # XGBoost algorithm\n",
    "from sklearn.linear_model import LogisticRegression\n",
    "from sklearn.tree import DecisionTreeClassifier\n",
    "from catboost import CatBoostClassifier\n",
    "import matplotlib.pyplot as plt # visualization\n",
    "import itertools # advanced tools\n",
    "\n",
    "import os\n",
    "import random\n",
    "from sklearn.model_selection import StratifiedKFold\n",
    "from sklearn.model_selection import GridSearchCV\n",
    "from sklearn.metrics import confusion_matrix # evaluation metric\n",
    "from sklearn.metrics import accuracy_score # evaluation metric\n",
    "from sklearn.metrics import f1_score # evaluation metric\n",
    "from sklearn.metrics import precision_score # evaluation metric\n",
    "from sklearn.metrics import recall_score # evaluation metric\n",
    "from sklearn.model_selection import StratifiedShuffleSplit\n",
    "from imblearn.under_sampling import RandomUnderSampler\n",
    "from imblearn.over_sampling import RandomOverSampler\n",
    "from collections import Counter\n",
    "from imblearn.pipeline import Pipeline\n",
    "from sklearn.model_selection import RepeatedStratifiedKFold\n",
    "from sklearn.model_selection import cross_val_score\n",
    "from imblearn.over_sampling import SMOTE \n",
    "from sklearn.decomposition import PCA, FastICA\n",
    "from sklearn import metrics\n",
    "import warnings\n",
    "warnings.filterwarnings('ignore')"
   ]
  },
  {
   "cell_type": "code",
   "execution_count": 2,
   "id": "d79f8d0d-c71c-45ee-891d-851590b3ef08",
   "metadata": {},
   "outputs": [],
   "source": [
    "os.chdir(r\"C:\\Users\\Wilmer\\Desktop\\marlette-ds-challenge\")"
   ]
  },
  {
   "cell_type": "markdown",
   "id": "5fa954ec-c15d-4d4b-a7cc-22dfae94a07a",
   "metadata": {},
   "source": [
    "# Read Data"
   ]
  },
  {
   "cell_type": "code",
   "execution_count": 3,
   "id": "5f7a5f13-ef11-42c1-8906-7486aaa0081c",
   "metadata": {},
   "outputs": [],
   "source": [
    "df = pd.read_csv(\"training_data.csv/training_data.csv\")"
   ]
  },
  {
   "cell_type": "markdown",
   "id": "a06f8c95-6887-41a0-a7d9-929ccbaf882a",
   "metadata": {},
   "source": [
    "# Get an idea of what the data looks like"
   ]
  },
  {
   "cell_type": "code",
   "execution_count": 4,
   "id": "6d2e6eca-d39d-4c13-a4b9-e2764baa7119",
   "metadata": {},
   "outputs": [
    {
     "data": {
      "text/html": [
       "<div>\n",
       "<style scoped>\n",
       "    .dataframe tbody tr th:only-of-type {\n",
       "        vertical-align: middle;\n",
       "    }\n",
       "\n",
       "    .dataframe tbody tr th {\n",
       "        vertical-align: top;\n",
       "    }\n",
       "\n",
       "    .dataframe thead th {\n",
       "        text-align: right;\n",
       "    }\n",
       "</style>\n",
       "<table border=\"1\" class=\"dataframe\">\n",
       "  <thead>\n",
       "    <tr style=\"text-align: right;\">\n",
       "      <th></th>\n",
       "      <th>ID</th>\n",
       "      <th>var1</th>\n",
       "      <th>var2</th>\n",
       "      <th>var3</th>\n",
       "      <th>var4</th>\n",
       "      <th>var5</th>\n",
       "      <th>var6</th>\n",
       "      <th>var7</th>\n",
       "      <th>var8</th>\n",
       "      <th>var9</th>\n",
       "      <th>...</th>\n",
       "      <th>var189</th>\n",
       "      <th>var190</th>\n",
       "      <th>var191</th>\n",
       "      <th>var192</th>\n",
       "      <th>cat1</th>\n",
       "      <th>cat2</th>\n",
       "      <th>cat3</th>\n",
       "      <th>cat4</th>\n",
       "      <th>cat5</th>\n",
       "      <th>target</th>\n",
       "    </tr>\n",
       "  </thead>\n",
       "  <tbody>\n",
       "    <tr>\n",
       "      <th>0</th>\n",
       "      <td>44686</td>\n",
       "      <td>86.52893</td>\n",
       "      <td>80.79771</td>\n",
       "      <td>75.25887</td>\n",
       "      <td>74.02016</td>\n",
       "      <td>69.01476</td>\n",
       "      <td>65.61648</td>\n",
       "      <td>63.23896</td>\n",
       "      <td>59.07834</td>\n",
       "      <td>56.80397</td>\n",
       "      <td>...</td>\n",
       "      <td>85.133333</td>\n",
       "      <td>84.45</td>\n",
       "      <td>85.20</td>\n",
       "      <td>85.900000</td>\n",
       "      <td>S</td>\n",
       "      <td>H</td>\n",
       "      <td>C</td>\n",
       "      <td>B</td>\n",
       "      <td>C</td>\n",
       "      <td>0</td>\n",
       "    </tr>\n",
       "    <tr>\n",
       "      <th>1</th>\n",
       "      <td>44687</td>\n",
       "      <td>68.56225</td>\n",
       "      <td>72.05599</td>\n",
       "      <td>69.52573</td>\n",
       "      <td>68.79211</td>\n",
       "      <td>65.48515</td>\n",
       "      <td>63.00976</td>\n",
       "      <td>61.19186</td>\n",
       "      <td>57.85757</td>\n",
       "      <td>55.94791</td>\n",
       "      <td>...</td>\n",
       "      <td>90.533333</td>\n",
       "      <td>86.55</td>\n",
       "      <td>87.24</td>\n",
       "      <td>87.300000</td>\n",
       "      <td>S</td>\n",
       "      <td>I</td>\n",
       "      <td>C</td>\n",
       "      <td>B</td>\n",
       "      <td>C</td>\n",
       "      <td>0</td>\n",
       "    </tr>\n",
       "    <tr>\n",
       "      <th>2</th>\n",
       "      <td>44688</td>\n",
       "      <td>77.88821</td>\n",
       "      <td>76.62270</td>\n",
       "      <td>73.11046</td>\n",
       "      <td>72.20956</td>\n",
       "      <td>68.26166</td>\n",
       "      <td>65.34046</td>\n",
       "      <td>63.19467</td>\n",
       "      <td>59.25676</td>\n",
       "      <td>57.01834</td>\n",
       "      <td>...</td>\n",
       "      <td>93.933333</td>\n",
       "      <td>90.20</td>\n",
       "      <td>89.84</td>\n",
       "      <td>88.600000</td>\n",
       "      <td>S</td>\n",
       "      <td>I</td>\n",
       "      <td>C</td>\n",
       "      <td>B</td>\n",
       "      <td>C</td>\n",
       "      <td>0</td>\n",
       "    </tr>\n",
       "    <tr>\n",
       "      <th>3</th>\n",
       "      <td>44689</td>\n",
       "      <td>81.11949</td>\n",
       "      <td>78.43038</td>\n",
       "      <td>74.59578</td>\n",
       "      <td>73.63714</td>\n",
       "      <td>69.45540</td>\n",
       "      <td>66.35951</td>\n",
       "      <td>64.07976</td>\n",
       "      <td>59.88543</td>\n",
       "      <td>57.50303</td>\n",
       "      <td>...</td>\n",
       "      <td>93.200000</td>\n",
       "      <td>88.15</td>\n",
       "      <td>88.48</td>\n",
       "      <td>87.766667</td>\n",
       "      <td>S</td>\n",
       "      <td>I</td>\n",
       "      <td>C</td>\n",
       "      <td>B</td>\n",
       "      <td>C</td>\n",
       "      <td>0</td>\n",
       "    </tr>\n",
       "    <tr>\n",
       "      <th>4</th>\n",
       "      <td>44690</td>\n",
       "      <td>62.18698</td>\n",
       "      <td>68.60618</td>\n",
       "      <td>67.86709</td>\n",
       "      <td>67.44987</td>\n",
       "      <td>65.15601</td>\n",
       "      <td>63.13671</td>\n",
       "      <td>61.52867</td>\n",
       "      <td>58.35072</td>\n",
       "      <td>56.42460</td>\n",
       "      <td>...</td>\n",
       "      <td>92.733333</td>\n",
       "      <td>88.15</td>\n",
       "      <td>88.00</td>\n",
       "      <td>88.566667</td>\n",
       "      <td>S</td>\n",
       "      <td>I</td>\n",
       "      <td>C</td>\n",
       "      <td>B</td>\n",
       "      <td>C</td>\n",
       "      <td>0</td>\n",
       "    </tr>\n",
       "  </tbody>\n",
       "</table>\n",
       "<p>5 rows × 199 columns</p>\n",
       "</div>"
      ],
      "text/plain": [
       "      ID      var1      var2      var3      var4      var5      var6  \\\n",
       "0  44686  86.52893  80.79771  75.25887  74.02016  69.01476  65.61648   \n",
       "1  44687  68.56225  72.05599  69.52573  68.79211  65.48515  63.00976   \n",
       "2  44688  77.88821  76.62270  73.11046  72.20956  68.26166  65.34046   \n",
       "3  44689  81.11949  78.43038  74.59578  73.63714  69.45540  66.35951   \n",
       "4  44690  62.18698  68.60618  67.86709  67.44987  65.15601  63.13671   \n",
       "\n",
       "       var7      var8      var9  ...     var189  var190  var191     var192  \\\n",
       "0  63.23896  59.07834  56.80397  ...  85.133333   84.45   85.20  85.900000   \n",
       "1  61.19186  57.85757  55.94791  ...  90.533333   86.55   87.24  87.300000   \n",
       "2  63.19467  59.25676  57.01834  ...  93.933333   90.20   89.84  88.600000   \n",
       "3  64.07976  59.88543  57.50303  ...  93.200000   88.15   88.48  87.766667   \n",
       "4  61.52867  58.35072  56.42460  ...  92.733333   88.15   88.00  88.566667   \n",
       "\n",
       "   cat1  cat2  cat3  cat4  cat5  target  \n",
       "0     S     H     C     B     C       0  \n",
       "1     S     I     C     B     C       0  \n",
       "2     S     I     C     B     C       0  \n",
       "3     S     I     C     B     C       0  \n",
       "4     S     I     C     B     C       0  \n",
       "\n",
       "[5 rows x 199 columns]"
      ]
     },
     "execution_count": 4,
     "metadata": {},
     "output_type": "execute_result"
    }
   ],
   "source": [
    "df.head()"
   ]
  },
  {
   "cell_type": "markdown",
   "id": "05f5734a-9dc8-44db-a652-d58316f0afb5",
   "metadata": {},
   "source": [
    "# Duplicates?"
   ]
  },
  {
   "cell_type": "code",
   "execution_count": 5,
   "id": "e1969991-c9ce-40f8-8d93-f5921c3dc71d",
   "metadata": {},
   "outputs": [],
   "source": [
    "df = df.drop_duplicates()"
   ]
  },
  {
   "cell_type": "markdown",
   "id": "d2a1d3dd-7f73-4c75-991d-6d28ab7e05a4",
   "metadata": {},
   "source": [
    "We see that there are no duplicates in this dataset. "
   ]
  },
  {
   "cell_type": "markdown",
   "id": "0f60ec7e-f329-4b4c-9108-f0156c708a0b",
   "metadata": {},
   "source": [
    "# Null values?\n"
   ]
  },
  {
   "cell_type": "code",
   "execution_count": 6,
   "id": "f79781d0-d3f6-447c-a812-67df0f354633",
   "metadata": {},
   "outputs": [
    {
     "data": {
      "text/plain": [
       "0"
      ]
     },
     "execution_count": 6,
     "metadata": {},
     "output_type": "execute_result"
    }
   ],
   "source": [
    "df.isnull().sum().max()"
   ]
  },
  {
   "cell_type": "markdown",
   "id": "c8ddef20-6bea-4ccc-ac43-27cafa341d83",
   "metadata": {},
   "source": [
    "No Null values either. "
   ]
  },
  {
   "cell_type": "markdown",
   "id": "f0f28ca2-73e9-4697-9041-4aff069d0c03",
   "metadata": {},
   "source": [
    "# Encode Labels (cat 1- cat5)"
   ]
  },
  {
   "cell_type": "markdown",
   "id": "07f87794-a950-4a09-91a2-5f6472930b32",
   "metadata": {},
   "source": [
    "In order to use our categorical variables, we need to encode them into numeric values. We can use the Label Encoder library from sklearn."
   ]
  },
  {
   "cell_type": "code",
   "execution_count": 7,
   "id": "59be1a36-0116-4ef8-ac40-fca81974504e",
   "metadata": {},
   "outputs": [],
   "source": [
    "# Encode labels to numeric\n",
    "labelencoder = LabelEncoder()\n",
    "df[\"cat1\"] = labelencoder.fit_transform(df[\"cat1\"])\n",
    "df[\"cat2\"] = labelencoder.fit_transform(df[\"cat2\"])\n",
    "df[\"cat3\"] = labelencoder.fit_transform(df[\"cat3\"])\n",
    "df[\"cat4\"] = labelencoder.fit_transform(df[\"cat4\"])\n",
    "df[\"cat5\"] = labelencoder.fit_transform(df[\"cat5\"])"
   ]
  },
  {
   "cell_type": "markdown",
   "id": "0a47f56f-5ae1-43de-9cf3-b40cec1c89e0",
   "metadata": {},
   "source": [
    "# Create holdout set to prevent data leakage"
   ]
  },
  {
   "cell_type": "markdown",
   "id": "4b1fa793-c4fa-4941-8593-b021241d397b",
   "metadata": {},
   "source": [
    "In order to make sure that our datasets are equally balanced, we can split our training and test dataset by stratifying on our target variable.  "
   ]
  },
  {
   "cell_type": "code",
   "execution_count": 8,
   "id": "91132056-e92c-4ae3-91d2-c75baca74cff",
   "metadata": {},
   "outputs": [
    {
     "name": "stdout",
     "output_type": "stream",
     "text": [
      "Fraudulent transactions are 0.94% of the training set.\n",
      "Fraudulent transactions are 0.95% of the test set.\n"
     ]
    }
   ],
   "source": [
    "trainDF, testDF = train_test_split(df, test_size=0.2, random_state=1234, stratify=df[[\"target\"]])\n",
    "tr_value_counts = trainDF[\"target\"].value_counts()\n",
    "print(\"Fraudulent transactions are %.2f%% of the training set.\" % (tr_value_counts[1] * 100 / len(trainDF)))\n",
    "tst_value_counts = testDF[\"target\"].value_counts()\n",
    "print(\"Fraudulent transactions are %.2f%% of the test set.\" % (tst_value_counts[1] * 100 / len(testDF)))"
   ]
  },
  {
   "cell_type": "markdown",
   "id": "0f961e60-a719-4369-9829-9c751ee8d2fe",
   "metadata": {},
   "source": [
    "# Create Test and Train sets"
   ]
  },
  {
   "cell_type": "code",
   "execution_count": 9,
   "id": "67f8ad16-5aa3-429b-a234-72551ea0335f",
   "metadata": {},
   "outputs": [
    {
     "data": {
      "text/html": [
       "<div>\n",
       "<style scoped>\n",
       "    .dataframe tbody tr th:only-of-type {\n",
       "        vertical-align: middle;\n",
       "    }\n",
       "\n",
       "    .dataframe tbody tr th {\n",
       "        vertical-align: top;\n",
       "    }\n",
       "\n",
       "    .dataframe thead th {\n",
       "        text-align: right;\n",
       "    }\n",
       "</style>\n",
       "<table border=\"1\" class=\"dataframe\">\n",
       "  <thead>\n",
       "    <tr style=\"text-align: right;\">\n",
       "      <th></th>\n",
       "      <th>ID</th>\n",
       "      <th>var1</th>\n",
       "      <th>var2</th>\n",
       "      <th>var3</th>\n",
       "      <th>var4</th>\n",
       "      <th>var5</th>\n",
       "      <th>var6</th>\n",
       "      <th>var7</th>\n",
       "      <th>var8</th>\n",
       "      <th>var9</th>\n",
       "      <th>...</th>\n",
       "      <th>var188</th>\n",
       "      <th>var189</th>\n",
       "      <th>var190</th>\n",
       "      <th>var191</th>\n",
       "      <th>var192</th>\n",
       "      <th>cat1</th>\n",
       "      <th>cat2</th>\n",
       "      <th>cat3</th>\n",
       "      <th>cat4</th>\n",
       "      <th>cat5</th>\n",
       "    </tr>\n",
       "  </thead>\n",
       "  <tbody>\n",
       "    <tr>\n",
       "      <th>8765</th>\n",
       "      <td>64732</td>\n",
       "      <td>63.52400</td>\n",
       "      <td>62.02852</td>\n",
       "      <td>60.63958</td>\n",
       "      <td>60.24064</td>\n",
       "      <td>58.16411</td>\n",
       "      <td>56.24291</td>\n",
       "      <td>54.64911</td>\n",
       "      <td>51.62154</td>\n",
       "      <td>50.10868</td>\n",
       "      <td>...</td>\n",
       "      <td>146.0</td>\n",
       "      <td>140.400000</td>\n",
       "      <td>138.95</td>\n",
       "      <td>151.24</td>\n",
       "      <td>141.000000</td>\n",
       "      <td>7</td>\n",
       "      <td>7</td>\n",
       "      <td>1</td>\n",
       "      <td>1</td>\n",
       "      <td>1</td>\n",
       "    </tr>\n",
       "    <tr>\n",
       "      <th>3020</th>\n",
       "      <td>50821</td>\n",
       "      <td>75.19215</td>\n",
       "      <td>66.57365</td>\n",
       "      <td>61.85938</td>\n",
       "      <td>61.01287</td>\n",
       "      <td>58.09891</td>\n",
       "      <td>56.51396</td>\n",
       "      <td>55.57799</td>\n",
       "      <td>54.20943</td>\n",
       "      <td>53.46899</td>\n",
       "      <td>...</td>\n",
       "      <td>14.8</td>\n",
       "      <td>13.200000</td>\n",
       "      <td>12.70</td>\n",
       "      <td>14.52</td>\n",
       "      <td>17.533333</td>\n",
       "      <td>11</td>\n",
       "      <td>4</td>\n",
       "      <td>1</td>\n",
       "      <td>1</td>\n",
       "      <td>1</td>\n",
       "    </tr>\n",
       "    <tr>\n",
       "      <th>3291</th>\n",
       "      <td>52027</td>\n",
       "      <td>80.86206</td>\n",
       "      <td>68.51620</td>\n",
       "      <td>65.04445</td>\n",
       "      <td>64.48007</td>\n",
       "      <td>62.36521</td>\n",
       "      <td>60.72348</td>\n",
       "      <td>59.24970</td>\n",
       "      <td>55.63899</td>\n",
       "      <td>53.26023</td>\n",
       "      <td>...</td>\n",
       "      <td>84.5</td>\n",
       "      <td>86.333333</td>\n",
       "      <td>82.60</td>\n",
       "      <td>82.76</td>\n",
       "      <td>83.333333</td>\n",
       "      <td>6</td>\n",
       "      <td>6</td>\n",
       "      <td>1</td>\n",
       "      <td>1</td>\n",
       "      <td>1</td>\n",
       "    </tr>\n",
       "    <tr>\n",
       "      <th>3212</th>\n",
       "      <td>51948</td>\n",
       "      <td>18.49919</td>\n",
       "      <td>25.97824</td>\n",
       "      <td>29.54745</td>\n",
       "      <td>30.22504</td>\n",
       "      <td>32.75381</td>\n",
       "      <td>34.41779</td>\n",
       "      <td>35.66354</td>\n",
       "      <td>38.34208</td>\n",
       "      <td>40.20942</td>\n",
       "      <td>...</td>\n",
       "      <td>117.3</td>\n",
       "      <td>113.933333</td>\n",
       "      <td>112.10</td>\n",
       "      <td>111.88</td>\n",
       "      <td>115.600000</td>\n",
       "      <td>6</td>\n",
       "      <td>0</td>\n",
       "      <td>1</td>\n",
       "      <td>0</td>\n",
       "      <td>0</td>\n",
       "    </tr>\n",
       "    <tr>\n",
       "      <th>247</th>\n",
       "      <td>44933</td>\n",
       "      <td>36.65000</td>\n",
       "      <td>29.32237</td>\n",
       "      <td>29.21855</td>\n",
       "      <td>29.41497</td>\n",
       "      <td>30.90176</td>\n",
       "      <td>32.66956</td>\n",
       "      <td>34.40505</td>\n",
       "      <td>38.68626</td>\n",
       "      <td>41.54717</td>\n",
       "      <td>...</td>\n",
       "      <td>82.2</td>\n",
       "      <td>76.333333</td>\n",
       "      <td>71.25</td>\n",
       "      <td>73.76</td>\n",
       "      <td>75.166667</td>\n",
       "      <td>17</td>\n",
       "      <td>0</td>\n",
       "      <td>2</td>\n",
       "      <td>1</td>\n",
       "      <td>0</td>\n",
       "    </tr>\n",
       "  </tbody>\n",
       "</table>\n",
       "<p>5 rows × 198 columns</p>\n",
       "</div>"
      ],
      "text/plain": [
       "         ID      var1      var2      var3      var4      var5      var6  \\\n",
       "8765  64732  63.52400  62.02852  60.63958  60.24064  58.16411  56.24291   \n",
       "3020  50821  75.19215  66.57365  61.85938  61.01287  58.09891  56.51396   \n",
       "3291  52027  80.86206  68.51620  65.04445  64.48007  62.36521  60.72348   \n",
       "3212  51948  18.49919  25.97824  29.54745  30.22504  32.75381  34.41779   \n",
       "247   44933  36.65000  29.32237  29.21855  29.41497  30.90176  32.66956   \n",
       "\n",
       "          var7      var8      var9  ...  var188      var189  var190  var191  \\\n",
       "8765  54.64911  51.62154  50.10868  ...   146.0  140.400000  138.95  151.24   \n",
       "3020  55.57799  54.20943  53.46899  ...    14.8   13.200000   12.70   14.52   \n",
       "3291  59.24970  55.63899  53.26023  ...    84.5   86.333333   82.60   82.76   \n",
       "3212  35.66354  38.34208  40.20942  ...   117.3  113.933333  112.10  111.88   \n",
       "247   34.40505  38.68626  41.54717  ...    82.2   76.333333   71.25   73.76   \n",
       "\n",
       "          var192  cat1  cat2  cat3  cat4  cat5  \n",
       "8765  141.000000     7     7     1     1     1  \n",
       "3020   17.533333    11     4     1     1     1  \n",
       "3291   83.333333     6     6     1     1     1  \n",
       "3212  115.600000     6     0     1     0     0  \n",
       "247    75.166667    17     0     2     1     0  \n",
       "\n",
       "[5 rows x 198 columns]"
      ]
     },
     "execution_count": 9,
     "metadata": {},
     "output_type": "execute_result"
    }
   ],
   "source": [
    "X_train = trainDF.iloc[:, trainDF.columns != \"target\"]\n",
    "y_train = trainDF.iloc[:, trainDF.columns == \"target\"]\n",
    "X_test = testDF.iloc[:, testDF.columns != \"target\"]\n",
    "y_test = testDF.iloc[:, testDF.columns == \"target\"]\n",
    "X_train.head()"
   ]
  },
  {
   "cell_type": "markdown",
   "id": "4f208747-d819-4da9-8f3d-094b911e1264",
   "metadata": {},
   "source": [
    "# SMOTE"
   ]
  },
  {
   "cell_type": "markdown",
   "id": "79bb870f-0635-40b9-b9b8-46533fd953d0",
   "metadata": {},
   "source": [
    "We use SMOTE to over sample our dataset in order to fix the problems that come with an extrememly imbalanced dataset."
   ]
  },
  {
   "cell_type": "code",
   "execution_count": 10,
   "id": "c8497e4f-b5fc-4b6c-8db5-c735e565575e",
   "metadata": {},
   "outputs": [
    {
     "name": "stdout",
     "output_type": "stream",
     "text": [
      "Fraudulent transactions are 50.00% of the test set.\n"
     ]
    }
   ],
   "source": [
    "X_train_smote, y_train_smote = SMOTE(random_state=1234).fit_resample(X_train, y_train)\n",
    "smote_value_counts = y_train_smote[\"target\"].value_counts()\n",
    "print(\"Fraudulent transactions are %.2f%% of the test set.\" % (smote_value_counts[0] * 100 / len(y_train_smote)))"
   ]
  },
  {
   "cell_type": "markdown",
   "id": "fb3b01b5-7efa-42d9-a64f-ee3a786b1ec9",
   "metadata": {},
   "source": [
    "We see here that after we over sample, we have half of our data as our target variable."
   ]
  },
  {
   "cell_type": "markdown",
   "id": "ec4ac7cc-a203-4935-9cc7-551286427121",
   "metadata": {},
   "source": [
    "# Logistic Regression Training"
   ]
  },
  {
   "cell_type": "markdown",
   "id": "533f1337-e2e3-49c1-8827-3a12647b8a4b",
   "metadata": {},
   "source": [
    "First we fit our logistic regression model and we find the best performing parameters using grid search. "
   ]
  },
  {
   "cell_type": "code",
   "execution_count": 11,
   "id": "d083b5d2-04a9-49a5-b402-88d3abdb97f0",
   "metadata": {},
   "outputs": [],
   "source": [
    "def lr_search(X, y, search_verbose=1):\n",
    "    space = dict()\n",
    "    space['solver'] = ['newton-cg', 'lbfgs', 'liblinear']\n",
    "    space['penalty'] = ['none', 'l1', 'l2', 'elasticnet']\n",
    "    space['C'] = [1e-5, 1e-4, 1e-3, 1e-2, 1e-1, 1, 10, 100]\n",
    "    lr = LogisticRegression()\n",
    "    skf = StratifiedKFold(n_splits=3, shuffle=True, random_state=1234)\n",
    "    grid_search = GridSearchCV(estimator=lr, param_grid=space, scoring=\"roc_auc\", n_jobs=-1, cv=skf.split(X,y), verbose=search_verbose)\n",
    "    grid_search.fit(X, y)\n",
    "    print(\"Best estimator: \")\n",
    "    print(grid_search.best_estimator_)\n",
    "    print(\"Parameters: \", grid_search.best_params_)\n",
    "    print(\"Highest AUC: %.2f\" % grid_search.best_score_)\n",
    "    return grid_search.best_params_"
   ]
  },
  {
   "cell_type": "code",
   "execution_count": 12,
   "id": "a6841299-702d-43b6-b170-1f01d93ca591",
   "metadata": {},
   "outputs": [
    {
     "name": "stdout",
     "output_type": "stream",
     "text": [
      "Fitting 3 folds for each of 96 candidates, totalling 288 fits\n",
      "Best estimator: \n",
      "LogisticRegression(C=100, solver='newton-cg')\n",
      "Parameters:  {'C': 100, 'penalty': 'l2', 'solver': 'newton-cg'}\n",
      "Highest AUC: 0.96\n"
     ]
    }
   ],
   "source": [
    "rows = random.sample(np.arange(0,len(X_train_smote.index)).tolist(), 10000)\n",
    "model_params =  lr_search(X_train_smote.iloc[rows,], y_train_smote.iloc[rows,])"
   ]
  },
  {
   "cell_type": "code",
   "execution_count": 13,
   "id": "46a93c35-0b85-4f71-b287-e981933727f8",
   "metadata": {},
   "outputs": [
    {
     "data": {
      "text/plain": [
       "LogisticRegression(C=100, solver='newton-cg')"
      ]
     },
     "execution_count": 13,
     "metadata": {},
     "output_type": "execute_result"
    }
   ],
   "source": [
    "lr_model = LogisticRegression()\n",
    "lr_model.set_params(**model_params)\n",
    "lr_model.fit(X_train_smote, y_train_smote)"
   ]
  },
  {
   "cell_type": "markdown",
   "id": "ac8428c4-7673-4a0a-be75-097c50d5c639",
   "metadata": {},
   "source": [
    "# CatBoost Training"
   ]
  },
  {
   "cell_type": "code",
   "execution_count": 14,
   "id": "6163e753-e08b-4322-b9c8-5314dd6353fa",
   "metadata": {},
   "outputs": [],
   "source": [
    "\n",
    "def cb_search(X, y, search_verbose=0):\n",
    "    params = {\n",
    "        \"max_depth\":[3,4,5,6],\n",
    "        \"learning_rate\": [1, 0.1, 0.01, 0.001]\n",
    "    }\n",
    "    cb = CatBoostClassifier(eval_metric=\"AUC\")\n",
    "    skf = StratifiedKFold(n_splits=3, shuffle=True, random_state=1234)\n",
    "    grid_search = GridSearchCV(estimator=cb, param_grid=params, scoring=\"roc_auc\", n_jobs=-1, cv=skf.split(X,y), verbose=False)\n",
    "    grid_search.fit(X, y, verbose = False)\n",
    "    print(\"Best estimator: \")\n",
    "    print(grid_search.best_estimator_)\n",
    "    print(\"Parameters: \", grid_search.best_params_)\n",
    "    print(\"Highest AUC: %.2f\" % grid_search.best_score_)\n",
    "    return grid_search.best_params_"
   ]
  },
  {
   "cell_type": "code",
   "execution_count": 15,
   "id": "32785619-213f-4cf2-9fb2-7438395771cb",
   "metadata": {},
   "outputs": [
    {
     "name": "stdout",
     "output_type": "stream",
     "text": [
      "Best estimator: \n",
      "<catboost.core.CatBoostClassifier object at 0x00000227069E5AF0>\n",
      "Parameters:  {'learning_rate': 0.1, 'max_depth': 6}\n",
      "Highest AUC: 1.00\n"
     ]
    }
   ],
   "source": [
    "rows = random.sample(np.arange(0,len(X_train_smote.index)).tolist(), 10000)\n",
    "model_params = cb_search(X_train_smote.iloc[rows,], y_train_smote.iloc[rows,])"
   ]
  },
  {
   "cell_type": "code",
   "execution_count": 16,
   "id": "b149c91d-cfe9-4699-843f-f132f65fd699",
   "metadata": {},
   "outputs": [
    {
     "data": {
      "text/plain": [
       "<catboost.core.CatBoostClassifier at 0x2270b562130>"
      ]
     },
     "execution_count": 16,
     "metadata": {},
     "output_type": "execute_result"
    }
   ],
   "source": [
    "cb_model = CatBoostClassifier(eval_metric=\"AUC\")\n",
    "cb_model.set_params(**model_params)\n",
    "cb_model.fit(X_train_smote, y_train_smote, verbose = False)"
   ]
  },
  {
   "cell_type": "markdown",
   "id": "07ebe938-ad77-4247-8e25-9dd07c1e2fd7",
   "metadata": {},
   "source": [
    "# XG Boost Training"
   ]
  },
  {
   "cell_type": "code",
   "execution_count": 17,
   "id": "9d7324d9-1853-4af0-a22d-981005f74c58",
   "metadata": {},
   "outputs": [],
   "source": [
    "def xgboost_search(X, y, search_verbose=1):\n",
    "    params = {\n",
    "        \"gamma\":[0.5, 1, 2, 5],\n",
    "        \"max_depth\":[3,4,5,6],\n",
    "        \"min_child_weight\": [100],\n",
    "        \"subsample\": [0.6, 1.0],\n",
    "        \"colsample_bytree\": [0.6, 0.8, 1.0],\n",
    "        \"learning_rate\": [1, 0.1, 0.01, 0.001]\n",
    "    }\n",
    "    xgb = XGBClassifier(objective=\"binary:logistic\", eval_metric=\"auc\", use_label_encoder=False)\n",
    "    skf = StratifiedKFold(n_splits=3, shuffle=True, random_state=1234)\n",
    "    grid_search = GridSearchCV(estimator=xgb, param_grid=params, scoring=\"roc_auc\", n_jobs=-1, cv=skf.split(X,y), verbose=search_verbose)\n",
    "    grid_search.fit(X, y)\n",
    "    print(\"Best estimator: \")\n",
    "    print(grid_search.best_estimator_)\n",
    "    print(\"Parameters: \", grid_search.best_params_)\n",
    "    print(\"Highest AUC: %.2f\" % grid_search.best_score_)\n",
    "    return grid_search.best_params_"
   ]
  },
  {
   "cell_type": "markdown",
   "id": "f7521d28-3e37-4f12-b5b2-e9f0eb6eda20",
   "metadata": {},
   "source": [
    "We use grid search to find the best paramters for our model"
   ]
  },
  {
   "cell_type": "code",
   "execution_count": 18,
   "id": "0bd9ed6f-9845-4d7f-b92c-e13580f43578",
   "metadata": {},
   "outputs": [
    {
     "name": "stdout",
     "output_type": "stream",
     "text": [
      "Fitting 3 folds for each of 384 candidates, totalling 1152 fits\n",
      "Best estimator: \n",
      "XGBClassifier(base_score=0.5, booster='gbtree', colsample_bylevel=1,\n",
      "              colsample_bynode=1, colsample_bytree=0.6,\n",
      "              enable_categorical=False, eval_metric='auc', gamma=0.5, gpu_id=-1,\n",
      "              importance_type=None, interaction_constraints='', learning_rate=1,\n",
      "              max_delta_step=0, max_depth=3, min_child_weight=100, missing=nan,\n",
      "              monotone_constraints='()', n_estimators=100, n_jobs=16,\n",
      "              num_parallel_tree=1, predictor='auto', random_state=0,\n",
      "              reg_alpha=0, reg_lambda=1, scale_pos_weight=1, subsample=1.0,\n",
      "              tree_method='exact', use_label_encoder=False,\n",
      "              validate_parameters=1, verbosity=None)\n",
      "Parameters:  {'colsample_bytree': 0.6, 'gamma': 0.5, 'learning_rate': 1, 'max_depth': 3, 'min_child_weight': 100, 'subsample': 1.0}\n",
      "Highest AUC: 0.99\n"
     ]
    }
   ],
   "source": [
    "rows = random.sample(np.arange(0,len(X_train_smote.index)).tolist(), 10000)\n",
    "model_params = xgboost_search(X_train_smote.iloc[rows,], y_train_smote.iloc[rows,])"
   ]
  },
  {
   "cell_type": "code",
   "execution_count": 19,
   "id": "fcc1d571-ef23-450b-bf6d-ab640fced5ce",
   "metadata": {},
   "outputs": [
    {
     "data": {
      "text/plain": [
       "XGBClassifier(base_score=0.5, booster='gbtree', colsample_bylevel=1,\n",
       "              colsample_bynode=1, colsample_bytree=0.6,\n",
       "              enable_categorical=False, eval_metric='auc', gamma=0.5, gpu_id=-1,\n",
       "              importance_type=None, interaction_constraints='', learning_rate=1,\n",
       "              max_delta_step=0, max_depth=3, min_child_weight=100, missing=nan,\n",
       "              monotone_constraints='()', n_estimators=100, n_jobs=16,\n",
       "              num_parallel_tree=1, predictor='auto', random_state=0,\n",
       "              reg_alpha=0, reg_lambda=1, scale_pos_weight=1, subsample=1.0,\n",
       "              tree_method='exact', use_label_encoder=False,\n",
       "              validate_parameters=1, verbosity=None)"
      ]
     },
     "execution_count": 19,
     "metadata": {},
     "output_type": "execute_result"
    }
   ],
   "source": [
    "model = XGBClassifier(objective=\"binary:logistic\", eval_metric=\"auc\", use_label_encoder=False)\n",
    "model.set_params(**model_params)\n",
    "model.fit(X_train_smote, y_train_smote)"
   ]
  },
  {
   "cell_type": "markdown",
   "id": "8952e32a-741b-4875-a3c7-c5779f0449ab",
   "metadata": {},
   "source": [
    "# Results"
   ]
  },
  {
   "cell_type": "markdown",
   "id": "8a9cb308",
   "metadata": {},
   "source": [
    "### Logistic Regression AUC"
   ]
  },
  {
   "cell_type": "code",
   "execution_count": 22,
   "id": "5fb51b5a-6cda-4616-ab7d-66cabb465ca4",
   "metadata": {},
   "outputs": [
    {
     "name": "stdout",
     "output_type": "stream",
     "text": [
      "AUC: 0.9114772667404245\n"
     ]
    }
   ],
   "source": [
    "y_pred = lr_model.predict_proba(X_test)[:,1]\n",
    "fp_r, tp_r, t = metrics.roc_curve(y_test, y_pred)\n",
    "auc = metrics.auc(fp_r, tp_r)\n",
    "print(\"AUC:\",auc)"
   ]
  },
  {
   "cell_type": "markdown",
   "id": "88c89fab-552e-43e9-aae5-aa3e3c15d935",
   "metadata": {},
   "source": [
    "### XG Boost AUC"
   ]
  },
  {
   "cell_type": "code",
   "execution_count": 23,
   "id": "ea1fc083-1d06-49ab-9c29-794577b50cbf",
   "metadata": {},
   "outputs": [
    {
     "name": "stdout",
     "output_type": "stream",
     "text": [
      "AUC: 0.9235419630156472\n"
     ]
    }
   ],
   "source": [
    "y_pred = model.predict_proba(X_test)[:,1]\n",
    "fp_r, tp_r, t = metrics.roc_curve(y_test, y_pred)\n",
    "auc = metrics.auc(fp_r, tp_r)\n",
    "print(\"AUC:\",auc)"
   ]
  },
  {
   "cell_type": "markdown",
   "id": "f08383f5-e84d-4c12-90af-9916223015b2",
   "metadata": {},
   "source": [
    "### CatBoost AUC"
   ]
  },
  {
   "cell_type": "code",
   "execution_count": 24,
   "id": "71c49027-033d-4678-9774-75f32148639d",
   "metadata": {},
   "outputs": [
    {
     "name": "stdout",
     "output_type": "stream",
     "text": [
      "AUC: 0.9235551340814498\n"
     ]
    }
   ],
   "source": [
    "y_pred = cb_model.predict_proba(X_test)[:,1]\n",
    "fp_r, tp_r, t = metrics.roc_curve(y_test, y_pred)\n",
    "auc = metrics.auc(fp_r, tp_r)\n",
    "print(\"AUC:\",auc)"
   ]
  },
  {
   "cell_type": "markdown",
   "id": "0c79d7d1-fd81-44bb-bdf9-70fff5c1a70e",
   "metadata": {},
   "source": [
    "If we look at all of our models, we see that CatBoost performs the best. "
   ]
  }
 ],
 "metadata": {
  "kernelspec": {
   "display_name": "Python 3 (ipykernel)",
   "language": "python",
   "name": "python3"
  },
  "language_info": {
   "codemirror_mode": {
    "name": "ipython",
    "version": 3
   },
   "file_extension": ".py",
   "mimetype": "text/x-python",
   "name": "python",
   "nbconvert_exporter": "python",
   "pygments_lexer": "ipython3",
   "version": "3.8.11"
  }
 },
 "nbformat": 4,
 "nbformat_minor": 5
}
